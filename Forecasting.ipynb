{
 "cells": [
  {
   "cell_type": "code",
   "execution_count": 17,
   "id": "0725f78d",
   "metadata": {},
   "outputs": [
    {
     "name": "stdout",
     "output_type": "stream",
     "text": [
      "Defaulting to user installation because normal site-packages is not writeable\n",
      "Requirement already satisfied: prophet in c:\\users\\wkhuz\\appdata\\roaming\\python\\python312\\site-packages (1.1.5)\n",
      "Requirement already satisfied: cmdstanpy>=1.0.4 in c:\\users\\wkhuz\\appdata\\roaming\\python\\python312\\site-packages (from prophet) (1.2.4)\n",
      "Requirement already satisfied: numpy>=1.15.4 in c:\\users\\wkhuz\\appdata\\roaming\\python\\python312\\site-packages (from prophet) (1.26.4)\n",
      "Requirement already satisfied: matplotlib>=2.0.0 in c:\\users\\wkhuz\\appdata\\roaming\\python\\python312\\site-packages (from prophet) (3.8.3)\n",
      "Requirement already satisfied: pandas>=1.0.4 in c:\\users\\wkhuz\\appdata\\roaming\\python\\python312\\site-packages (from prophet) (2.2.1)\n",
      "Requirement already satisfied: holidays>=0.25 in c:\\users\\wkhuz\\appdata\\roaming\\python\\python312\\site-packages (from prophet) (0.55)\n",
      "Requirement already satisfied: tqdm>=4.36.1 in c:\\users\\wkhuz\\appdata\\roaming\\python\\python312\\site-packages (from prophet) (4.66.5)\n",
      "Requirement already satisfied: importlib-resources in c:\\users\\wkhuz\\appdata\\roaming\\python\\python312\\site-packages (from prophet) (6.4.3)\n",
      "Requirement already satisfied: stanio<2.0.0,>=0.4.0 in c:\\users\\wkhuz\\appdata\\roaming\\python\\python312\\site-packages (from cmdstanpy>=1.0.4->prophet) (0.5.1)\n",
      "Requirement already satisfied: python-dateutil in c:\\users\\wkhuz\\appdata\\roaming\\python\\python312\\site-packages (from holidays>=0.25->prophet) (2.9.0.post0)\n",
      "Requirement already satisfied: contourpy>=1.0.1 in c:\\users\\wkhuz\\appdata\\roaming\\python\\python312\\site-packages (from matplotlib>=2.0.0->prophet) (1.2.0)\n",
      "Requirement already satisfied: cycler>=0.10 in c:\\users\\wkhuz\\appdata\\roaming\\python\\python312\\site-packages (from matplotlib>=2.0.0->prophet) (0.12.1)\n",
      "Requirement already satisfied: fonttools>=4.22.0 in c:\\users\\wkhuz\\appdata\\roaming\\python\\python312\\site-packages (from matplotlib>=2.0.0->prophet) (4.50.0)\n",
      "Requirement already satisfied: kiwisolver>=1.3.1 in c:\\users\\wkhuz\\appdata\\roaming\\python\\python312\\site-packages (from matplotlib>=2.0.0->prophet) (1.4.5)\n",
      "Requirement already satisfied: packaging>=20.0 in c:\\users\\wkhuz\\appdata\\roaming\\python\\python312\\site-packages (from matplotlib>=2.0.0->prophet) (24.0)\n",
      "Requirement already satisfied: pillow>=8 in c:\\users\\wkhuz\\appdata\\roaming\\python\\python312\\site-packages (from matplotlib>=2.0.0->prophet) (10.2.0)\n",
      "Requirement already satisfied: pyparsing>=2.3.1 in c:\\users\\wkhuz\\appdata\\roaming\\python\\python312\\site-packages (from matplotlib>=2.0.0->prophet) (3.1.2)\n",
      "Requirement already satisfied: pytz>=2020.1 in c:\\users\\wkhuz\\appdata\\roaming\\python\\python312\\site-packages (from pandas>=1.0.4->prophet) (2024.1)\n",
      "Requirement already satisfied: tzdata>=2022.7 in c:\\users\\wkhuz\\appdata\\roaming\\python\\python312\\site-packages (from pandas>=1.0.4->prophet) (2024.1)\n",
      "Requirement already satisfied: colorama in c:\\users\\wkhuz\\appdata\\roaming\\python\\python312\\site-packages (from tqdm>=4.36.1->prophet) (0.4.6)\n",
      "Requirement already satisfied: six>=1.5 in c:\\users\\wkhuz\\appdata\\roaming\\python\\python312\\site-packages (from python-dateutil->holidays>=0.25->prophet) (1.16.0)\n"
     ]
    },
    {
     "ename": "ModuleNotFoundError",
     "evalue": "No module named 'prophet'",
     "output_type": "error",
     "traceback": [
      "\u001b[1;31m---------------------------------------------------------------------------\u001b[0m",
      "\u001b[1;31mModuleNotFoundError\u001b[0m                       Traceback (most recent call last)",
      "Cell \u001b[1;32mIn[17], line 6\u001b[0m\n\u001b[0;32m      4\u001b[0m \u001b[38;5;28;01mimport\u001b[39;00m \u001b[38;5;21;01mpandas\u001b[39;00m \u001b[38;5;28;01mas\u001b[39;00m \u001b[38;5;21;01mpd\u001b[39;00m\n\u001b[0;32m      5\u001b[0m \u001b[38;5;28;01mimport\u001b[39;00m \u001b[38;5;21;01mnumpy\u001b[39;00m \u001b[38;5;28;01mas\u001b[39;00m \u001b[38;5;21;01mnp\u001b[39;00m\n\u001b[1;32m----> 6\u001b[0m \u001b[38;5;28;01mfrom\u001b[39;00m \u001b[38;5;21;01mprophet\u001b[39;00m \u001b[38;5;28;01mimport\u001b[39;00m Prophet\n\u001b[0;32m      7\u001b[0m \u001b[38;5;28;01mimport\u001b[39;00m \u001b[38;5;21;01mmatplotlib\u001b[39;00m\u001b[38;5;21;01m.\u001b[39;00m\u001b[38;5;21;01mpyplot\u001b[39;00m \u001b[38;5;28;01mas\u001b[39;00m \u001b[38;5;21;01mplt\u001b[39;00m\n",
      "\u001b[1;31mModuleNotFoundError\u001b[0m: No module named 'prophet'"
     ]
    }
   ],
   "source": [
    "!pip install prophet\n",
    "\n",
    "#Importing neccesarry libraries\n",
    "import pandas as pd\n",
    "import numpy as np\n",
    "from prophet import Prophet\n",
    "import matplotlib.pyplot as plt"
   ]
  },
  {
   "cell_type": "code",
   "execution_count": null,
   "id": "ab6e8078",
   "metadata": {},
   "outputs": [],
   "source": [
    "#load the dataset\n",
    "df = pd.read_csv(r'/Users/wkhuz/Downloads/reddit_finance.csv/reddit_finance.csv')"
   ]
  },
  {
   "cell_type": "code",
   "execution_count": null,
   "id": "1bcd069b",
   "metadata": {},
   "outputs": [],
   "source": [
    "# Display the first 5 rows of the dataframe\n",
    "df.head()"
   ]
  },
  {
   "cell_type": "code",
   "execution_count": null,
   "id": "53083999",
   "metadata": {},
   "outputs": [],
   "source": [
    "# Handle missing values\n",
    "df = df.dropna(subset=['2020_invst_save', 'industry'])\n",
    "\n",
    "# Convert 'industry' to categorical codes\n",
    "df['industry'] = df['industry'].astype('category').cat.codes"
   ]
  },
  {
   "cell_type": "code",
   "execution_count": null,
   "id": "d8edc17b",
   "metadata": {},
   "outputs": [],
   "source": [
    "# Creating a synthetic date column since i do not have the date column on my dataset\n",
    "df['date'] = pd.date_range(start='2020-01-01', periods=len(df), freq='M')\n"
   ]
  },
  {
   "cell_type": "code",
   "execution_count": null,
   "id": "51a017ce",
   "metadata": {},
   "outputs": [],
   "source": [
    "#Group by synthetic date and aggregate savings\n",
    "grouped_df = df.groupby('date').agg({'2020_invst_save': 'sum'}).reset_index()\n",
    "\n",
    "# Rename the columns for Prophet usage\n",
    "grouped_df.columns = ['ds', 'y']\n",
    "\n",
    "# Display the prepared data\n",
    "print(grouped_df.head())"
   ]
  },
  {
   "cell_type": "code",
   "execution_count": null,
   "id": "5ba67d45",
   "metadata": {},
   "outputs": [],
   "source": [
    "# Initializing the Prophet model\n",
    "model = Prophet()\n",
    "\n",
    "# Fitting the model\n",
    "model.fit(grouped_df)"
   ]
  },
  {
   "cell_type": "code",
   "execution_count": null,
   "id": "69adc93f",
   "metadata": {},
   "outputs": [],
   "source": [
    "# Creating future DataFrame for the next 12 months\n",
    "future = model.make_future_dataframe(periods=12, freq='M')\n",
    "\n",
    "# Making predictions\n",
    "forecast = model.predict(future)\n",
    "\n",
    "# Displaying the forecast\n",
    "print(forecast[['ds', 'yhat', 'yhat_lower', 'yhat_upper']].tail())"
   ]
  },
  {
   "cell_type": "code",
   "execution_count": null,
   "id": "10c504c0",
   "metadata": {},
   "outputs": [],
   "source": [
    "# Plotting the forecast\n",
    "fig = model.plot(forecast)\n",
    "\n",
    "# Add labels and title\n",
    "plt.title('Forecast of Savings Growth Over Time')\n",
    "plt.xlabel('Date')\n",
    "plt.ylabel('Savings Growth')\n",
    "plt.show()\n"
   ]
  },
  {
   "cell_type": "code",
   "execution_count": null,
   "id": "9bfed9b9",
   "metadata": {},
   "outputs": [],
   "source": [
    "# To handle the prophet error, i uninstalled and also installed it,\n",
    "# last time in an activity i used fbProphet and it didn't work \n",
    "# and also tried to install it on the project itself but still no luck"
   ]
  },
  {
   "cell_type": "code",
   "execution_count": null,
   "id": "76ab3f9a",
   "metadata": {},
   "outputs": [],
   "source": []
  }
 ],
 "metadata": {
  "kernelspec": {
   "display_name": "Python 3 (ipykernel)",
   "language": "python",
   "name": "python3"
  },
  "language_info": {
   "codemirror_mode": {
    "name": "ipython",
    "version": 3
   },
   "file_extension": ".py",
   "mimetype": "text/x-python",
   "name": "python",
   "nbconvert_exporter": "python",
   "pygments_lexer": "ipython3",
   "version": "3.11.7"
  }
 },
 "nbformat": 4,
 "nbformat_minor": 5
}
